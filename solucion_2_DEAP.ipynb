{
  "cells": [
    {
      "cell_type": "markdown",
      "metadata": {},
      "source": [
        "## Importación de Bibliotecas y Configuración Inicial\n",
        "\n",
        "Importamos todas las librerías necesarias para la ejecución del programa."
      ]
    },
    {
      "cell_type": "code",
      "execution_count": 13,
      "metadata": {
        "colab": {
          "base_uri": "https://localhost:8080/"
        },
        "id": "zWwcZ3zgDAmR",
        "outputId": "ac0f0e5c-507e-4b2d-ee3c-1bce63254c38"
      },
      "outputs": [
        {
          "name": "stdout",
          "output_type": "stream",
          "text": [
            "Requirement already satisfied: deap in /opt/anaconda3/lib/python3.12/site-packages (1.4.1)\n",
            "Requirement already satisfied: numpy in /opt/anaconda3/lib/python3.12/site-packages (from deap) (1.26.4)\n"
          ]
        }
      ],
      "source": [
        "!pip install deap\n",
        "\n",
        "import random\n",
        "import operator\n",
        "import numpy as np\n",
        "import pandas as pd\n",
        "from sklearn.model_selection import train_test_split\n",
        "from deap import base, creator, tools, gp"
      ]
    },
    {
      "cell_type": "markdown",
      "metadata": {},
      "source": [
        "---\n",
        "## Carga del Conjunto de Datos\n",
        "\n",
        "Cargamos el conjunto de datos desde un archivo CSV."
      ]
    },
    {
      "cell_type": "code",
      "execution_count": 14,
      "metadata": {},
      "outputs": [],
      "source": [
        "df = pd.read_csv('Datasets/lungcancer_binario.csv')"
      ]
    },
    {
      "cell_type": "markdown",
      "metadata": {},
      "source": [
        "---\n",
        "## Preprocesamiento de Datos\n",
        "\n",
        "Definimos una función para convertir los atributos del DataFrame a variables binarias o aplicar one-hot encoding, sin modificar los atributos que ya son binarios"
      ]
    },
    {
      "cell_type": "code",
      "execution_count": 15,
      "metadata": {},
      "outputs": [],
      "source": [
        "def convert_to_binary(df):\n",
        "    \"\"\"\n",
        "    Convierte los atributos de un DataFrame a binarios o one-hot,\n",
        "    sin modificar los atributos que ya son binarios.\n",
        "    \n",
        "    Parámetros:\n",
        "    df : pd.DataFrame\n",
        "        El DataFrame a convertir.\n",
        "\n",
        "    Retorna:\n",
        "    pd.DataFrame\n",
        "        Un nuevo DataFrame con las columnas convertidas a formato binario o one-hot.\n",
        "    \"\"\"\n",
        "    df_binary = df.copy()\n",
        "\n",
        "    for column in df_binary.columns:\n",
        "        if df_binary[column].dtype in ['int64', 'float64']:\n",
        "            if df_binary[column].nunique() == 2:\n",
        "                df_binary[column] = df_binary[column].astype(int)  \n",
        "            elif df_binary[column].nunique() > 3:\n",
        "                df_binned = pd.cut(df_binary[column], bins=4, labels=False)\n",
        "                df_one_hot = pd.get_dummies(df_binned, prefix=column)\n",
        "                df_binary = pd.concat([df_binary, df_one_hot], axis=1)\n",
        "                df_binary.drop(column, axis=1, inplace=True)\n",
        "            else:\n",
        "                df_one_hot = pd.get_dummies(df_binary[column], prefix=column)\n",
        "                df_binary = pd.concat([df_binary, df_one_hot], axis=1)\n",
        "                df_binary.drop(column, axis=1, inplace=True)\n",
        "        elif df_binary[column].dtype == 'object':\n",
        "            df_one_hot = pd.get_dummies(df_binary[column], prefix=column)\n",
        "            df_binary = pd.concat([df_binary, df_one_hot], axis=1)\n",
        "            df_binary.drop(column, axis=1, inplace=True)\n",
        "\n",
        "    return df_binary"
      ]
    },
    {
      "cell_type": "code",
      "execution_count": 16,
      "metadata": {},
      "outputs": [],
      "source": [
        "df_bin = convert_to_binary(df)"
      ]
    },
    {
      "cell_type": "markdown",
      "metadata": {},
      "source": [
        "---\n",
        "## División de Datos en Entrenamiento y Prueba\n",
        "\n",
        "Dividimos los datos en conjuntos de entrenamiento y prueba para evaluar el rendimiento del modelo"
      ]
    },
    {
      "cell_type": "code",
      "execution_count": 17,
      "metadata": {},
      "outputs": [],
      "source": [
        "X = df_bin.drop(['CancerPulmon'], axis=1)\n",
        "Y = df_bin['CancerPulmon']\n",
        "\n",
        "X = X.values.astype(int)\n",
        "Y = Y.values.astype(int)\n",
        "\n",
        "Xtrain, Xtest, Ytrain, Ytest = train_test_split(\n",
        "    X, Y, test_size=0.2, random_state=42, stratify=Y)"
      ]
    },
    {
      "cell_type": "markdown",
      "metadata": {},
      "source": [
        "---\n",
        "## Definición de Funciones Lógicas\n",
        "\n",
        "Definimos las funciones lógicas que se usarán en el algoritmo genético."
      ]
    },
    {
      "cell_type": "code",
      "execution_count": 18,
      "metadata": {},
      "outputs": [],
      "source": [
        "def logical_and(a, b):\n",
        "    return int(a and b)\n",
        "\n",
        "def logical_or(a, b):\n",
        "    return int(a or b)\n",
        "\n",
        "def logical_not(a):\n",
        "    return int(not a)"
      ]
    },
    {
      "cell_type": "markdown",
      "metadata": {},
      "source": [
        "---\n",
        "## Configuración del Algoritmo Genético\n",
        "\n",
        "Establecemos las primitivas, la estructura de fitness y el toolbox para el algoritmo genético."
      ]
    },
    {
      "cell_type": "code",
      "execution_count": 19,
      "metadata": {},
      "outputs": [
        {
          "name": "stderr",
          "output_type": "stream",
          "text": [
            "/opt/anaconda3/lib/python3.12/site-packages/deap/creator.py:185: RuntimeWarning: A class named 'FitnessMax' has already been created and it will be overwritten. Consider deleting previous creation of that class or rename it.\n",
            "  warnings.warn(\"A class named '{0}' has already been created and it \"\n",
            "/opt/anaconda3/lib/python3.12/site-packages/deap/creator.py:185: RuntimeWarning: A class named 'Individual' has already been created and it will be overwritten. Consider deleting previous creation of that class or rename it.\n",
            "  warnings.warn(\"A class named '{0}' has already been created and it \"\n"
          ]
        }
      ],
      "source": [
        "num_vars = Xtrain.shape[1]\n",
        "var_names = ['x' + str(i+1) for i in range(num_vars)]\n",
        "\n",
        "pset = gp.PrimitiveSet(\"MAIN\", num_vars)\n",
        "pset.renameArguments(**{'ARG' + str(i): var_names[i] for i in range(num_vars)})\n",
        "\n",
        "pset.addPrimitive(logical_and, 2)\n",
        "pset.addPrimitive(logical_or, 2)\n",
        "pset.addPrimitive(logical_not, 1)\n",
        "\n",
        "creator.create(\"FitnessMax\", base.Fitness, weights=(1.0,))\n",
        "creator.create(\"Individual\", gp.PrimitiveTree, fitness=creator.FitnessMax)\n",
        "\n",
        "toolbox = base.Toolbox()\n",
        "toolbox.register(\"expr\", gp.genHalfAndHalf, pset=pset, min_=1, max_=3)\n",
        "toolbox.register(\"individual\", tools.initIterate,\n",
        "                 creator.Individual, toolbox.expr)\n",
        "toolbox.register(\"population\", tools.initRepeat, list, toolbox.individual)\n",
        "\n",
        "toolbox.register(\"compile\", gp.compile, pset=pset)"
      ]
    },
    {
      "cell_type": "markdown",
      "metadata": {},
      "source": [
        "---\n",
        "## Evaluación de Individuos\n",
        "\n",
        "Definimos la función de evaluación basada en la métrica F1."
      ]
    },
    {
      "cell_type": "code",
      "execution_count": 20,
      "metadata": {},
      "outputs": [],
      "source": [
        "def eval_individual(individual):\n",
        "    func = toolbox.compile(expr=individual)\n",
        "    predictions = []\n",
        "    for i in range(len(Xtrain)):\n",
        "        args = tuple(Xtrain[i])\n",
        "        pred = func(*args)\n",
        "        predictions.append(pred)\n",
        "    y_pred = np.array(predictions)\n",
        "    y_true = Ytrain\n",
        "\n",
        "    tp = np.sum((y_true == 1) & (y_pred == 1))\n",
        "    fp = np.sum((y_true == 0) & (y_pred == 1))\n",
        "    fn = np.sum((y_true == 1) & (y_pred == 0))\n",
        "    precision = tp / (tp + fp) if (tp + fp) > 0 else 0\n",
        "    recall = tp / (tp + fn) if (tp + fn) > 0 else 0\n",
        "    f1 = 2 * (precision * recall) / \\\n",
        "        (precision + recall) if (precision + recall) > 0 else 0\n",
        "    return f1,"
      ]
    },
    {
      "cell_type": "markdown",
      "metadata": {},
      "source": [
        "---\n",
        "## Registro de Funciones Genéticas"
      ]
    },
    {
      "cell_type": "code",
      "execution_count": 21,
      "metadata": {},
      "outputs": [],
      "source": [
        "toolbox.register(\"evaluate\", eval_individual)\n",
        "\n",
        "toolbox.register(\"select\", tools.selTournament, tournsize=3)\n",
        "toolbox.register(\"mate\", gp.cxOnePoint)\n",
        "toolbox.register(\"expr_mut\", gp.genFull, min_=0, max_=2)\n",
        "toolbox.register(\"mutate\", gp.mutUniform, expr=toolbox.expr_mut, pset=pset)"
      ]
    },
    {
      "cell_type": "markdown",
      "metadata": {},
      "source": [
        "---\n",
        "## Control de Crecimiento del Árbol\n",
        "\n",
        "Limitamos el crecimiento del árbol para evitar el bloat."
      ]
    },
    {
      "cell_type": "code",
      "execution_count": 22,
      "metadata": {},
      "outputs": [],
      "source": [
        "MAX_HEIGHT = 5\n",
        "MAX_SIZE = 50\n",
        "toolbox.decorate(\"mate\", gp.staticLimit(\n",
        "    key=operator.attrgetter(\"height\"), max_value=MAX_HEIGHT))\n",
        "toolbox.decorate(\"mate\", gp.staticLimit(key=len, max_value=MAX_SIZE))\n",
        "toolbox.decorate(\"mutate\", gp.staticLimit(\n",
        "    key=operator.attrgetter(\"height\"), max_value=MAX_HEIGHT))\n",
        "toolbox.decorate(\"mutate\", gp.staticLimit(key=len, max_value=MAX_SIZE))"
      ]
    },
    {
      "cell_type": "markdown",
      "metadata": {},
      "source": [
        "---\n",
        "## Función Main\n",
        "Definimos la función main del algoritmo que ejecuta las generaciones."
      ]
    },
    {
      "cell_type": "code",
      "execution_count": 23,
      "metadata": {},
      "outputs": [],
      "source": [
        "def main():\n",
        "    random.seed(42)\n",
        "    pop = toolbox.population(n=300)\n",
        "    hof = tools.HallOfFame(1)\n",
        "\n",
        "    stats_fit = tools.Statistics(lambda ind: ind.fitness.values[0])\n",
        "    stats_size = tools.Statistics(len)\n",
        "    mstats = tools.MultiStatistics(fitness=stats_fit, size=stats_size)\n",
        "    mstats.register(\"avg\", np.mean)\n",
        "    mstats.register(\"std\", np.std)\n",
        "    mstats.register(\"min\", np.min)\n",
        "    mstats.register(\"max\", np.max)\n",
        "\n",
        "    toolbox.register(\"map\", map)\n",
        "\n",
        "    fitnesses = list(toolbox.map(toolbox.evaluate, pop))\n",
        "    for ind, fit in zip(pop, fitnesses):\n",
        "        ind.fitness.values = fit\n",
        "\n",
        "    hof.update(pop)\n",
        "\n",
        "    ngen = 150\n",
        "    for gen in range(ngen):\n",
        "        offspring = toolbox.select(pop, len(pop) - 1)\n",
        "        offspring = list(map(toolbox.clone, offspring))\n",
        "        \n",
        "        for child1, child2 in zip(offspring[::2], offspring[1::2]):\n",
        "            if random.random() < 0.5:\n",
        "                toolbox.mate(child1, child2)\n",
        "                del child1.fitness.values\n",
        "                del child2.fitness.values\n",
        "        for mutant in offspring:\n",
        "            if random.random() < 0.2:\n",
        "                toolbox.mutate(mutant)\n",
        "                del mutant.fitness.values\n",
        "                \n",
        "        invalid_ind = [ind for ind in offspring if not ind.fitness.valid]\n",
        "        fitnesses = toolbox.map(toolbox.evaluate, invalid_ind)\n",
        "        for ind, fit in zip(invalid_ind, fitnesses):\n",
        "            ind.fitness.values = fit\n",
        "            \n",
        "        pop[:] = offspring + [hof[0]]\n",
        "        \n",
        "        hof.update(pop)\n",
        "        \n",
        "        record = mstats.compile(pop)\n",
        "        print(f\"Gen {gen}: Max F1 Score = {record['fitness']['max']:.4f}\")\n",
        "    return pop, hof\n"
      ]
    },
    {
      "cell_type": "markdown",
      "metadata": {},
      "source": [
        "---\n",
        "## Evaluación en el Conjunto de Prueba\n",
        "\n",
        "Definimos la función para evaluar el mejor individuo en el conjunto de prueba."
      ]
    },
    {
      "cell_type": "code",
      "execution_count": 24,
      "metadata": {},
      "outputs": [],
      "source": [
        "def evaluate_on_test_set(individual):\n",
        "    func = toolbox.compile(expr=individual)\n",
        "    predictions = []\n",
        "    for i in range(len(Xtest)):\n",
        "        args = tuple(Xtest[i])\n",
        "        pred = func(*args)\n",
        "        predictions.append(pred)\n",
        "    y_pred = np.array(predictions)\n",
        "    y_true = Ytest\n",
        "    tp = np.sum((y_true == 1) & (y_pred == 1))\n",
        "    fp = np.sum((y_true == 0) & (y_pred == 1))\n",
        "    fn = np.sum((y_true == 1) & (y_pred == 0))\n",
        "    precision = tp / (tp + fp) if (tp + fp) > 0 else 0\n",
        "    recall = tp / (tp + fn) if (tp + fn) > 0 else 0\n",
        "    f1 = 2 * (precision * recall) / \\\n",
        "        (precision + recall) if (precision + recall) > 0 else 0\n",
        "    return f1\n"
      ]
    },
    {
      "cell_type": "markdown",
      "metadata": {},
      "source": [
        "---\n",
        "## Ejecución del Programa y Visualización de Resultados\n",
        "\n",
        "Ejecutamos el programa y mostramos los resultados."
      ]
    },
    {
      "cell_type": "code",
      "execution_count": 25,
      "metadata": {},
      "outputs": [
        {
          "name": "stdout",
          "output_type": "stream",
          "text": [
            "Gen 0: Max F1 Score = 0.9429\n",
            "Gen 1: Max F1 Score = 0.9487\n",
            "Gen 2: Max F1 Score = 0.9487\n",
            "Gen 3: Max F1 Score = 0.9487\n",
            "Gen 4: Max F1 Score = 0.9502\n",
            "Gen 5: Max F1 Score = 0.9533\n",
            "Gen 6: Max F1 Score = 0.9554\n",
            "Gen 7: Max F1 Score = 0.9554\n",
            "Gen 8: Max F1 Score = 0.9554\n",
            "Gen 9: Max F1 Score = 0.9554\n",
            "Gen 10: Max F1 Score = 0.9554\n",
            "Gen 11: Max F1 Score = 0.9557\n",
            "Gen 12: Max F1 Score = 0.9557\n",
            "Gen 13: Max F1 Score = 0.9557\n",
            "Gen 14: Max F1 Score = 0.9557\n",
            "Gen 15: Max F1 Score = 0.9557\n",
            "Gen 16: Max F1 Score = 0.9557\n",
            "Gen 17: Max F1 Score = 0.9576\n",
            "Gen 18: Max F1 Score = 0.9578\n",
            "Gen 19: Max F1 Score = 0.9578\n",
            "Gen 20: Max F1 Score = 0.9580\n",
            "Gen 21: Max F1 Score = 0.9602\n",
            "Gen 22: Max F1 Score = 0.9604\n",
            "Gen 23: Max F1 Score = 0.9604\n",
            "Gen 24: Max F1 Score = 0.9604\n",
            "Gen 25: Max F1 Score = 0.9604\n",
            "Gen 26: Max F1 Score = 0.9628\n",
            "Gen 27: Max F1 Score = 0.9628\n",
            "Gen 28: Max F1 Score = 0.9628\n",
            "Gen 29: Max F1 Score = 0.9628\n",
            "Gen 30: Max F1 Score = 0.9628\n",
            "Gen 31: Max F1 Score = 0.9628\n",
            "Gen 32: Max F1 Score = 0.9630\n",
            "Gen 33: Max F1 Score = 0.9630\n",
            "Gen 34: Max F1 Score = 0.9630\n",
            "Gen 35: Max F1 Score = 0.9630\n",
            "Gen 36: Max F1 Score = 0.9630\n",
            "Gen 37: Max F1 Score = 0.9630\n",
            "Gen 38: Max F1 Score = 0.9630\n",
            "Gen 39: Max F1 Score = 0.9630\n",
            "Gen 40: Max F1 Score = 0.9630\n",
            "Gen 41: Max F1 Score = 0.9630\n",
            "Gen 42: Max F1 Score = 0.9630\n",
            "Gen 43: Max F1 Score = 0.9653\n",
            "Gen 44: Max F1 Score = 0.9653\n",
            "Gen 45: Max F1 Score = 0.9653\n",
            "Gen 46: Max F1 Score = 0.9653\n",
            "Gen 47: Max F1 Score = 0.9653\n",
            "Gen 48: Max F1 Score = 0.9653\n",
            "Gen 49: Max F1 Score = 0.9653\n",
            "Gen 50: Max F1 Score = 0.9653\n",
            "Gen 51: Max F1 Score = 0.9653\n",
            "Gen 52: Max F1 Score = 0.9653\n",
            "Gen 53: Max F1 Score = 0.9653\n",
            "Gen 54: Max F1 Score = 0.9653\n",
            "Gen 55: Max F1 Score = 0.9653\n",
            "Gen 56: Max F1 Score = 0.9653\n",
            "Gen 57: Max F1 Score = 0.9653\n",
            "Gen 58: Max F1 Score = 0.9653\n",
            "Gen 59: Max F1 Score = 0.9653\n",
            "Gen 60: Max F1 Score = 0.9653\n",
            "Gen 61: Max F1 Score = 0.9653\n",
            "Gen 62: Max F1 Score = 0.9653\n",
            "Gen 63: Max F1 Score = 0.9653\n",
            "Gen 64: Max F1 Score = 0.9653\n",
            "Gen 65: Max F1 Score = 0.9653\n",
            "Gen 66: Max F1 Score = 0.9653\n",
            "Gen 67: Max F1 Score = 0.9653\n",
            "Gen 68: Max F1 Score = 0.9653\n",
            "Gen 69: Max F1 Score = 0.9653\n",
            "Gen 70: Max F1 Score = 0.9653\n",
            "Gen 71: Max F1 Score = 0.9653\n",
            "Gen 72: Max F1 Score = 0.9653\n",
            "Gen 73: Max F1 Score = 0.9653\n",
            "Gen 74: Max F1 Score = 0.9653\n",
            "Gen 75: Max F1 Score = 0.9653\n",
            "Gen 76: Max F1 Score = 0.9653\n",
            "Gen 77: Max F1 Score = 0.9653\n",
            "Gen 78: Max F1 Score = 0.9653\n",
            "Gen 79: Max F1 Score = 0.9653\n",
            "Gen 80: Max F1 Score = 0.9653\n",
            "Gen 81: Max F1 Score = 0.9653\n",
            "Gen 82: Max F1 Score = 0.9653\n",
            "Gen 83: Max F1 Score = 0.9653\n",
            "Gen 84: Max F1 Score = 0.9653\n",
            "Gen 85: Max F1 Score = 0.9653\n",
            "Gen 86: Max F1 Score = 0.9653\n",
            "Gen 87: Max F1 Score = 0.9653\n",
            "Gen 88: Max F1 Score = 0.9653\n",
            "Gen 89: Max F1 Score = 0.9653\n",
            "Gen 90: Max F1 Score = 0.9653\n",
            "Gen 91: Max F1 Score = 0.9653\n",
            "Gen 92: Max F1 Score = 0.9653\n",
            "Gen 93: Max F1 Score = 0.9653\n",
            "Gen 94: Max F1 Score = 0.9653\n",
            "Gen 95: Max F1 Score = 0.9653\n",
            "Gen 96: Max F1 Score = 0.9653\n",
            "Gen 97: Max F1 Score = 0.9653\n",
            "Gen 98: Max F1 Score = 0.9653\n",
            "Gen 99: Max F1 Score = 0.9653\n",
            "Gen 100: Max F1 Score = 0.9653\n",
            "Gen 101: Max F1 Score = 0.9653\n",
            "Gen 102: Max F1 Score = 0.9653\n",
            "Gen 103: Max F1 Score = 0.9653\n",
            "Gen 104: Max F1 Score = 0.9653\n",
            "Gen 105: Max F1 Score = 0.9653\n",
            "Gen 106: Max F1 Score = 0.9653\n",
            "Gen 107: Max F1 Score = 0.9653\n",
            "Gen 108: Max F1 Score = 0.9653\n",
            "Gen 109: Max F1 Score = 0.9653\n",
            "Gen 110: Max F1 Score = 0.9653\n",
            "Gen 111: Max F1 Score = 0.9653\n",
            "Gen 112: Max F1 Score = 0.9653\n",
            "Gen 113: Max F1 Score = 0.9653\n",
            "Gen 114: Max F1 Score = 0.9653\n",
            "Gen 115: Max F1 Score = 0.9653\n",
            "Gen 116: Max F1 Score = 0.9653\n",
            "Gen 117: Max F1 Score = 0.9653\n",
            "Gen 118: Max F1 Score = 0.9653\n",
            "Gen 119: Max F1 Score = 0.9653\n",
            "Gen 120: Max F1 Score = 0.9653\n",
            "Gen 121: Max F1 Score = 0.9653\n",
            "Gen 122: Max F1 Score = 0.9653\n",
            "Gen 123: Max F1 Score = 0.9653\n",
            "Gen 124: Max F1 Score = 0.9653\n",
            "Gen 125: Max F1 Score = 0.9653\n",
            "Gen 126: Max F1 Score = 0.9653\n",
            "Gen 127: Max F1 Score = 0.9653\n",
            "Gen 128: Max F1 Score = 0.9653\n",
            "Gen 129: Max F1 Score = 0.9653\n",
            "Gen 130: Max F1 Score = 0.9653\n",
            "Gen 131: Max F1 Score = 0.9653\n",
            "Gen 132: Max F1 Score = 0.9653\n",
            "Gen 133: Max F1 Score = 0.9653\n",
            "Gen 134: Max F1 Score = 0.9653\n",
            "Gen 135: Max F1 Score = 0.9653\n",
            "Gen 136: Max F1 Score = 0.9653\n",
            "Gen 137: Max F1 Score = 0.9653\n",
            "Gen 138: Max F1 Score = 0.9653\n",
            "Gen 139: Max F1 Score = 0.9653\n",
            "Gen 140: Max F1 Score = 0.9653\n",
            "Gen 141: Max F1 Score = 0.9653\n",
            "Gen 142: Max F1 Score = 0.9653\n",
            "Gen 143: Max F1 Score = 0.9653\n",
            "Gen 144: Max F1 Score = 0.9653\n",
            "Gen 145: Max F1 Score = 0.9653\n",
            "Gen 146: Max F1 Score = 0.9653\n",
            "Gen 147: Max F1 Score = 0.9653\n",
            "Gen 148: Max F1 Score = 0.9653\n",
            "Gen 149: Max F1 Score = 0.9653\n",
            "\n",
            "Best individual:\n",
            "logical_or(logical_or(logical_or(logical_and(logical_not(x15), logical_and(x11, logical_or(x7, logical_and(logical_not(x15), logical_or(x4, logical_and(logical_or(x8, x8), logical_not(x14))))))), logical_and(logical_and(x8, logical_or(x7, x13)), logical_or(logical_or(x13, logical_and(x5, x8)), logical_or(x4, logical_and(logical_not(x15), x12))))), logical_or(x4, logical_and(x5, x1))), logical_and(logical_or(x9, logical_or(x4, x1)), logical_or(x9, x8)))\n",
            "\n",
            "Best training F1 Score: 0.9653465346534653\n",
            "Test F1 Score: 0.9215686274509803\n"
          ]
        }
      ],
      "source": [
        "if __name__ == \"__main__\":\n",
        "    pop, hof = main()\n",
        "    best_individual = hof[0]\n",
        "    print(\"\\nBest individual:\")\n",
        "    print(best_individual)\n",
        "    print(\"\\nBest training F1 Score:\", best_individual.fitness.values[0])\n",
        "    test_f1 = evaluate_on_test_set(best_individual)\n",
        "    print(\"Test F1 Score:\", test_f1)\n"
      ]
    }
  ],
  "metadata": {
    "colab": {
      "provenance": []
    },
    "kernelspec": {
      "display_name": "base",
      "language": "python",
      "name": "python3"
    },
    "language_info": {
      "codemirror_mode": {
        "name": "ipython",
        "version": 3
      },
      "file_extension": ".py",
      "mimetype": "text/x-python",
      "name": "python",
      "nbconvert_exporter": "python",
      "pygments_lexer": "ipython3",
      "version": "3.12.4"
    }
  },
  "nbformat": 4,
  "nbformat_minor": 0
}
