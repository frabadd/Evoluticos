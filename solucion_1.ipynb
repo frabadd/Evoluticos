{
 "cells": [
  {
   "cell_type": "markdown",
   "metadata": {},
   "source": [
    "## Importación de Bibliotecas y Configuración Inicial\n",
    "\n",
    "Comenzamos importando las bibliotecas necesarias y configurando variables globales para el manejo de señales y la interrupción del algoritmo."
   ]
  },
  {
   "cell_type": "code",
   "execution_count": 1,
   "metadata": {},
   "outputs": [],
   "source": [
    "import signal\n",
    "import sys\n",
    "import pandas as pd\n",
    "import json\n",
    "import numpy as np\n",
    "import time\n",
    "from sklearn.model_selection import train_test_split\n",
    "\n",
    "interrupted = False\n"
   ]
  },
  {
   "cell_type": "markdown",
   "metadata": {},
   "source": [
    "---\n",
    "\n",
    "## Manejo de Señales\n",
    "Definimos un manejador de señales para controlar las interrupciones durante la ejecución del algoritmo."
   ]
  },
  {
   "cell_type": "code",
   "execution_count": 2,
   "metadata": {},
   "outputs": [
    {
     "data": {
      "text/plain": [
       "<function _signal.default_int_handler(signalnum, frame, /)>"
      ]
     },
     "execution_count": 2,
     "metadata": {},
     "output_type": "execute_result"
    }
   ],
   "source": [
    "def signal_handler(sig, frame):\n",
    "    global interrupted\n",
    "    interrupted = True\n",
    "\n",
    "signal.signal(signal.SIGINT, signal_handler)"
   ]
  },
  {
   "cell_type": "markdown",
   "metadata": {},
   "source": [
    "---\n",
    "## Carga del Conjunto de Datos\n",
    "\n",
    "Cargamos el conjunto de datos desde un archivo CSV."
   ]
  },
  {
   "cell_type": "code",
   "execution_count": 3,
   "metadata": {},
   "outputs": [],
   "source": [
    "df = pd.read_csv('Datasets/LungCancer.csv')"
   ]
  },
  {
   "cell_type": "markdown",
   "metadata": {},
   "source": [
    "---\n",
    "## Exploración y Visualización de los Datos\n",
    "Para entender mejor nuestros datos, podemos realizar una exploración y visualización inicial."
   ]
  },
  {
   "cell_type": "code",
   "execution_count": 4,
   "metadata": {},
   "outputs": [
    {
     "data": {
      "text/html": [
       "<div>\n",
       "<style scoped>\n",
       "    .dataframe tbody tr th:only-of-type {\n",
       "        vertical-align: middle;\n",
       "    }\n",
       "\n",
       "    .dataframe tbody tr th {\n",
       "        vertical-align: top;\n",
       "    }\n",
       "\n",
       "    .dataframe thead th {\n",
       "        text-align: right;\n",
       "    }\n",
       "</style>\n",
       "<table border=\"1\" class=\"dataframe\">\n",
       "  <thead>\n",
       "    <tr style=\"text-align: right;\">\n",
       "      <th></th>\n",
       "      <th>Sexo</th>\n",
       "      <th>Edad</th>\n",
       "      <th>Fumador</th>\n",
       "      <th>DedosAmarillos</th>\n",
       "      <th>Ansiedad</th>\n",
       "      <th>Hipertension</th>\n",
       "      <th>EnfermedadCronica</th>\n",
       "      <th>Fatiga</th>\n",
       "      <th>Alergia</th>\n",
       "      <th>Silbidos</th>\n",
       "      <th>ConsumidorAlcohol</th>\n",
       "      <th>Tos</th>\n",
       "      <th>DificultadRespirar</th>\n",
       "      <th>DificultadTragar</th>\n",
       "      <th>DolorPecho</th>\n",
       "      <th>CancerPulmon</th>\n",
       "    </tr>\n",
       "  </thead>\n",
       "  <tbody>\n",
       "    <tr>\n",
       "      <th>0</th>\n",
       "      <td>M</td>\n",
       "      <td>69</td>\n",
       "      <td>0</td>\n",
       "      <td>1</td>\n",
       "      <td>1</td>\n",
       "      <td>0</td>\n",
       "      <td>0</td>\n",
       "      <td>1</td>\n",
       "      <td>0</td>\n",
       "      <td>1</td>\n",
       "      <td>1</td>\n",
       "      <td>1</td>\n",
       "      <td>1</td>\n",
       "      <td>1</td>\n",
       "      <td>1</td>\n",
       "      <td>1</td>\n",
       "    </tr>\n",
       "    <tr>\n",
       "      <th>1</th>\n",
       "      <td>M</td>\n",
       "      <td>74</td>\n",
       "      <td>1</td>\n",
       "      <td>0</td>\n",
       "      <td>0</td>\n",
       "      <td>0</td>\n",
       "      <td>1</td>\n",
       "      <td>1</td>\n",
       "      <td>1</td>\n",
       "      <td>0</td>\n",
       "      <td>0</td>\n",
       "      <td>0</td>\n",
       "      <td>1</td>\n",
       "      <td>1</td>\n",
       "      <td>1</td>\n",
       "      <td>1</td>\n",
       "    </tr>\n",
       "    <tr>\n",
       "      <th>2</th>\n",
       "      <td>F</td>\n",
       "      <td>59</td>\n",
       "      <td>0</td>\n",
       "      <td>0</td>\n",
       "      <td>0</td>\n",
       "      <td>1</td>\n",
       "      <td>0</td>\n",
       "      <td>1</td>\n",
       "      <td>0</td>\n",
       "      <td>1</td>\n",
       "      <td>0</td>\n",
       "      <td>1</td>\n",
       "      <td>1</td>\n",
       "      <td>0</td>\n",
       "      <td>1</td>\n",
       "      <td>0</td>\n",
       "    </tr>\n",
       "    <tr>\n",
       "      <th>3</th>\n",
       "      <td>M</td>\n",
       "      <td>63</td>\n",
       "      <td>1</td>\n",
       "      <td>1</td>\n",
       "      <td>1</td>\n",
       "      <td>0</td>\n",
       "      <td>0</td>\n",
       "      <td>0</td>\n",
       "      <td>0</td>\n",
       "      <td>0</td>\n",
       "      <td>1</td>\n",
       "      <td>0</td>\n",
       "      <td>0</td>\n",
       "      <td>1</td>\n",
       "      <td>1</td>\n",
       "      <td>0</td>\n",
       "    </tr>\n",
       "    <tr>\n",
       "      <th>4</th>\n",
       "      <td>F</td>\n",
       "      <td>63</td>\n",
       "      <td>0</td>\n",
       "      <td>1</td>\n",
       "      <td>0</td>\n",
       "      <td>0</td>\n",
       "      <td>0</td>\n",
       "      <td>0</td>\n",
       "      <td>0</td>\n",
       "      <td>1</td>\n",
       "      <td>0</td>\n",
       "      <td>1</td>\n",
       "      <td>1</td>\n",
       "      <td>0</td>\n",
       "      <td>0</td>\n",
       "      <td>0</td>\n",
       "    </tr>\n",
       "  </tbody>\n",
       "</table>\n",
       "</div>"
      ],
      "text/plain": [
       "  Sexo  Edad  Fumador  DedosAmarillos  Ansiedad  Hipertension  \\\n",
       "0    M    69        0               1         1             0   \n",
       "1    M    74        1               0         0             0   \n",
       "2    F    59        0               0         0             1   \n",
       "3    M    63        1               1         1             0   \n",
       "4    F    63        0               1         0             0   \n",
       "\n",
       "   EnfermedadCronica  Fatiga  Alergia  Silbidos  ConsumidorAlcohol  Tos  \\\n",
       "0                  0       1        0         1                  1    1   \n",
       "1                  1       1        1         0                  0    0   \n",
       "2                  0       1        0         1                  0    1   \n",
       "3                  0       0        0         0                  1    0   \n",
       "4                  0       0        0         1                  0    1   \n",
       "\n",
       "   DificultadRespirar  DificultadTragar  DolorPecho  CancerPulmon  \n",
       "0                   1                 1           1             1  \n",
       "1                   1                 1           1             1  \n",
       "2                   1                 0           1             0  \n",
       "3                   0                 1           1             0  \n",
       "4                   1                 0           0             0  "
      ]
     },
     "execution_count": 4,
     "metadata": {},
     "output_type": "execute_result"
    }
   ],
   "source": [
    "df.head()"
   ]
  },
  {
   "cell_type": "code",
   "execution_count": 5,
   "metadata": {},
   "outputs": [
    {
     "name": "stdout",
     "output_type": "stream",
     "text": [
      "<class 'pandas.core.frame.DataFrame'>\n",
      "RangeIndex: 284 entries, 0 to 283\n",
      "Data columns (total 16 columns):\n",
      " #   Column              Non-Null Count  Dtype \n",
      "---  ------              --------------  ----- \n",
      " 0   Sexo                284 non-null    object\n",
      " 1   Edad                284 non-null    int64 \n",
      " 2   Fumador             284 non-null    int64 \n",
      " 3   DedosAmarillos      284 non-null    int64 \n",
      " 4   Ansiedad            284 non-null    int64 \n",
      " 5   Hipertension        284 non-null    int64 \n",
      " 6   EnfermedadCronica   284 non-null    int64 \n",
      " 7   Fatiga              284 non-null    int64 \n",
      " 8   Alergia             284 non-null    int64 \n",
      " 9   Silbidos            284 non-null    int64 \n",
      " 10  ConsumidorAlcohol   284 non-null    int64 \n",
      " 11  Tos                 284 non-null    int64 \n",
      " 12  DificultadRespirar  284 non-null    int64 \n",
      " 13  DificultadTragar    284 non-null    int64 \n",
      " 14  DolorPecho          284 non-null    int64 \n",
      " 15  CancerPulmon        284 non-null    int64 \n",
      "dtypes: int64(15), object(1)\n",
      "memory usage: 35.6+ KB\n"
     ]
    }
   ],
   "source": [
    "df.info()"
   ]
  },
  {
   "cell_type": "markdown",
   "metadata": {},
   "source": [
    "---\n",
    "## Preprocesamiento de Datos\n",
    "\n",
    "Definimos una función para convertir los atributos del DataFrame a variables binarias o aplicar one-hot encoding, sin modificar los atributos que ya son binarios"
   ]
  },
  {
   "cell_type": "code",
   "execution_count": 6,
   "metadata": {},
   "outputs": [],
   "source": [
    "def convert_to_binary(df):\n",
    "    \"\"\"\n",
    "    Convierte los atributos de un DataFrame a binarios o one-hot,\n",
    "    sin modificar los atributos que ya son binarios.\n",
    "    \n",
    "    Parámetros:\n",
    "    df : pd.DataFrame\n",
    "        El DataFrame a convertir.\n",
    "\n",
    "    Retorna:\n",
    "    pd.DataFrame\n",
    "        Un nuevo DataFrame con las columnas convertidas a formato binario o one-hot.\n",
    "    \"\"\"\n",
    "    df_binary = df.copy()\n",
    "\n",
    "    for column in df_binary.columns:\n",
    "        # Verifica si la columna es numérica\n",
    "        if df_binary[column].dtype in ['int64', 'float64']:\n",
    "            if df_binary[column].nunique() == 2:\n",
    "                df_binary[column] = df_binary[column].astype(int)  # No modificar columnas binarias\n",
    "            elif df_binary[column].nunique() > 3:\n",
    "                # Aplica binning y luego one-hot\n",
    "                df_binned = pd.cut(df_binary[column], bins=4, labels=False)\n",
    "                df_one_hot = pd.get_dummies(df_binned, prefix=column)\n",
    "                df_binary = pd.concat([df_binary, df_one_hot], axis=1)\n",
    "                df_binary.drop(column, axis=1, inplace=True)\n",
    "            else:\n",
    "                # Aplica one-hot directamente para columnas con más de dos valores\n",
    "                df_one_hot = pd.get_dummies(df_binary[column], prefix=column)\n",
    "                df_binary = pd.concat([df_binary, df_one_hot], axis=1)\n",
    "                df_binary.drop(column, axis=1, inplace=True)\n",
    "        elif df_binary[column].dtype == 'object':\n",
    "            # Si la columna es categórica, aplica one-hot encoding\n",
    "            df_one_hot = pd.get_dummies(df_binary[column], prefix=column)\n",
    "            df_binary = pd.concat([df_binary, df_one_hot], axis=1)\n",
    "            df_binary.drop(column, axis=1, inplace=True)\n",
    "\n",
    "    return df_binary\n"
   ]
  },
  {
   "cell_type": "code",
   "execution_count": 7,
   "metadata": {},
   "outputs": [
    {
     "data": {
      "text/plain": [
       "Index(['Fumador', 'DedosAmarillos', 'Ansiedad', 'Hipertension',\n",
       "       'EnfermedadCronica', 'Fatiga', 'Alergia', 'Silbidos',\n",
       "       'ConsumidorAlcohol', 'Tos', 'DificultadRespirar', 'DificultadTragar',\n",
       "       'DolorPecho', 'CancerPulmon', 'Sexo_F', 'Sexo_M', 'Edad_0', 'Edad_1',\n",
       "       'Edad_2', 'Edad_3'],\n",
       "      dtype='object')"
      ]
     },
     "execution_count": 7,
     "metadata": {},
     "output_type": "execute_result"
    }
   ],
   "source": [
    "df = convert_to_binary(df)\n",
    "df.columns"
   ]
  },
  {
   "cell_type": "markdown",
   "metadata": {},
   "source": [
    "---\n",
    "## División de Datos en Entrenamiento y Prueba\n",
    "\n",
    "Dividimos los datos en conjuntos de entrenamiento y prueba para evaluar el rendimiento del modelo"
   ]
  },
  {
   "cell_type": "code",
   "execution_count": 8,
   "metadata": {},
   "outputs": [
    {
     "name": "stdout",
     "output_type": "stream",
     "text": [
      "227 57\n"
     ]
    }
   ],
   "source": [
    "X = df.iloc[:, :-1].values\n",
    "Y = df.iloc[:, -1].values\n",
    "\n",
    "Xtrain, Xtest, Ytrain, Ytest = train_test_split(X, Y, test_size=0.2, random_state=10, stratify = Y)\n",
    "\n",
    "print(len(Xtrain), len(Xtest))"
   ]
  },
  {
   "cell_type": "markdown",
   "metadata": {},
   "source": [
    "---\n",
    "## Función de Generación de Población\n",
    "\n",
    "Definimos una función para generar la población inicial de individuos. Cada individuo consiste en una máscara y pesos normalizados."
   ]
  },
  {
   "cell_type": "code",
   "execution_count": 9,
   "metadata": {},
   "outputs": [],
   "source": [
    "def generate_population(num_individuos, num_atributos):\n",
    "    \"\"\"\n",
    "    Genera una población inicial para el algoritmo genético.\n",
    "\n",
    "    Parámetros:\n",
    "        num_individuals (int): Número de individuos en la población.\n",
    "        num_attributes (int): Número de atributos/características.\n",
    "\n",
    "    Retorna:\n",
    "        np.ndarray: Un array de población de forma (num_individuals, 2, num_attributes).\n",
    "    \"\"\"\n",
    "    mascaras = np.random.randint(2, size=(num_individuos, num_atributos))\n",
    "    pesos = np.random.uniform(-1, 1, (num_individuos, num_atributos))\n",
    "    suma_pesos = pesos.sum(axis=1, keepdims=True)   \n",
    "    suma_pesos[suma_pesos == 0] = 1e-10\n",
    "    pesos_normalizados = pesos / suma_pesos\n",
    "    poblacion = np.stack((mascaras, pesos_normalizados), axis=1)\n",
    "    return poblacion"
   ]
  },
  {
   "cell_type": "markdown",
   "metadata": {},
   "source": [
    "---\n",
    "## Funciones de Cálculo de Aptitud\n",
    "\n",
    "Definimos funciones para calcular la aptitud de la población y de un individuo. La aptitud se basa en la puntuación F1 o exactitud."
   ]
  },
  {
   "cell_type": "code",
   "execution_count": 10,
   "metadata": {},
   "outputs": [],
   "source": [
    "def fitness_poblacion(poblacion, Xtrain, Ytrain, umbral=0.5, metrica='f1'):\n",
    "    \"\"\"\n",
    "    Calcula la aptitud de cada individuo en la población.\n",
    "\n",
    "    Parámetros:\n",
    "        poblacion (np.ndarray): El array de población.\n",
    "        Xtrain (np.ndarray): Matriz de características de entrenamiento.\n",
    "        Ytrain (np.ndarray): Etiquetas de entrenamiento.\n",
    "        umbral (float): Umbral para clasificación.\n",
    "        metrica (str): Métrica a utilizar para aptitud ('f1' o 'acc').\n",
    "\n",
    "    Retorna:\n",
    "        np.ndarray: Un array de puntuaciones de aptitud para la población.\n",
    "    \"\"\"\n",
    "    poblacion = np.asarray(poblacion)\n",
    "    population = np.copy(poblacion)\n",
    "    population[:, 0, :] = (population[:, 0, :] > 0.5).astype(int)\n",
    "    population[:, 1, :] = population[:, 1, :] * population[:, 0, :]\n",
    "    sums = np.sum(population[:, 1, :], axis=1, keepdims=True)\n",
    "    population[:, 1, :] = np.divide(population[:, 1, :], sums, where=sums != 0)\n",
    "    probs = np.dot(Xtrain, population[:, 1, :].T)\n",
    "    y_pred = (probs >= umbral).astype(int)\n",
    "    y_true = Ytrain\n",
    "    scores = np.empty(y_pred.shape[1])\n",
    "\n",
    "    if metrica == 'f1':\n",
    "        for i in range(y_pred.shape[1]):\n",
    "            tp = np.sum((y_true == 1) & (y_pred[:, i] == 1))\n",
    "            fp = np.sum((y_true == 0) & (y_pred[:, i] == 1))\n",
    "            fn = np.sum((y_true == 1) & (y_pred[:, i] == 0))\n",
    "            precision = tp / (tp + fp) if (tp + fp) > 0 else 0\n",
    "            recall = tp / (tp + fn) if (tp + fn) > 0 else 0\n",
    "            if precision + recall == 0:\n",
    "                scores[i] = 0\n",
    "            else:\n",
    "                scores[i] = 2 * (precision * recall) / (precision + recall)\n",
    "    elif metrica == 'acc':\n",
    "        for i in range(y_pred.shape[1]):\n",
    "            correct_predictions = np.sum(y_true == y_pred[:, i])\n",
    "            scores[i] = correct_predictions / len(y_true)\n",
    "\n",
    "    return scores\n",
    "\n",
    "def fitness(individuo, Xtrain, Ytrain, umbral=0.5, metrica='f1'):\n",
    "    \"\"\"\n",
    "    Calcula la aptitud de un solo individuo.\n",
    "\n",
    "    Parámetros:\n",
    "        individual (np.ndarray): El array del individuo.\n",
    "        Xtrain (np.ndarray): Matriz de características de entrenamiento.\n",
    "        Ytrain (np.ndarray): Etiquetas de entrenamiento.\n",
    "        umbral (float): Umbral para clasificación.\n",
    "        metrica (str): Métrica a utilizar para aptitud ('f1' o 'acc').\n",
    "\n",
    "    Retorna:\n",
    "        float: La puntuación de aptitud del individuo.\n",
    "    \"\"\"\n",
    "    individuo = np.copy(np.asarray(individuo))\n",
    "    individuo[1] = individuo[1] * individuo[0] / np.sum(individuo[1] * individuo[0])\n",
    "    y_true = Ytrain\n",
    "    probs = np.dot(Xtrain.astype(np.float64), individuo[1, :].T.astype(np.float64))\n",
    "    y_pred = (probs >= umbral).astype(int)\n",
    "\n",
    "    if metrica == 'f1':\n",
    "        tp = np.sum((y_true == 1) & (y_pred == 1))\n",
    "        fp = np.sum((y_true == 0) & (y_pred == 1))\n",
    "        fn = np.sum((y_true == 1) & (y_pred == 0))\n",
    "        precision = tp / (tp + fp) if (tp + fp) > 0 else 0\n",
    "        recall = tp / (tp + fn) if (tp + fn) > 0 else 0\n",
    "        if precision + recall == 0:\n",
    "            return 0.0\n",
    "        return 2 * (precision * recall) / (precision + recall)\n",
    "    elif metrica == 'acc':\n",
    "        return np.sum(y_true == y_pred) / len(y_true)"
   ]
  },
  {
   "cell_type": "markdown",
   "metadata": {},
   "source": [
    "---\n",
    "## Función de Selección\n",
    "\n",
    "Implementamos la selección por torneo para seleccionar individuos para la reproducción."
   ]
  },
  {
   "cell_type": "code",
   "execution_count": 11,
   "metadata": {},
   "outputs": [],
   "source": [
    "def seleccion_torneo(fitnessPoblacion, poblacion, k):\n",
    "    \"\"\"\n",
    "    Selecciona individuos de la población utilizando selección por torneo.\n",
    "\n",
    "    Parámetros:\n",
    "        fitnessPoblacion (np.ndarray): Puntuaciones de aptitud de la población.\n",
    "        poblacion (np.ndarray): El array de población.\n",
    "        k (int): Tamaño del torneo.\n",
    "\n",
    "    Retorna:\n",
    "        np.ndarray: Individuos seleccionados.\n",
    "    \"\"\"\n",
    "    seleccionados = []\n",
    "    for _ in range(len(poblacion)):\n",
    "        indices_torneo = np.random.choice(len(poblacion), k, replace=False)\n",
    "        ganador = indices_torneo[np.argmax(fitnessPoblacion[indices_torneo])]\n",
    "        seleccionados.append(poblacion[ganador])\n",
    "    return np.array(seleccionados)"
   ]
  },
  {
   "cell_type": "markdown",
   "metadata": {},
   "source": [
    "---\n",
    "## Función de Mutación\n",
    "\n",
    "Definimos una función para mutar individuos utilizando ruido gaussiano y pesos normalizados."
   ]
  },
  {
   "cell_type": "code",
   "execution_count": 12,
   "metadata": {},
   "outputs": [],
   "source": [
    "def mutacion_gaussiana_normalizada(individuo, prob_mutacion=0.1, sigma=0.01):\n",
    "    \"\"\"\n",
    "    Muta un individuo utilizando ruido gaussiano y normaliza los pesos.\n",
    "\n",
    "    Parámetros:\n",
    "        individuo (np.ndarray): El individuo a mutar.\n",
    "        prob_mutacion (float): Probabilidad de mutación para cada gen.\n",
    "        sigma (float): Desviación estándar para el ruido gaussiano.\n",
    "\n",
    "    Retorna:\n",
    "        np.ndarray: Individuo mutado.\n",
    "    \"\"\"\n",
    "    mutante = np.copy(individuo)\n",
    "    for i in range(len(mutante[0])):\n",
    "        if np.random.rand() < prob_mutacion:\n",
    "            mutante[0, i] = 1 - mutante[0, i]\n",
    "    for i in range(len(mutante[1])):\n",
    "        if np.random.rand() < prob_mutacion:\n",
    "            mutante[1, i] += np.random.normal(0, sigma)\n",
    "    mutante[1] /= np.sum(np.abs(mutante[1]))\n",
    "    return mutante"
   ]
  },
  {
   "cell_type": "markdown",
   "metadata": {},
   "source": [
    "---\n",
    "## Función de Cruce\n",
    "\n",
    "Implementamos el cruce entre dos padres para producir dos hijos."
   ]
  },
  {
   "cell_type": "code",
   "execution_count": 13,
   "metadata": {},
   "outputs": [],
   "source": [
    "def crossover(padre1, padre2, alpha=0.5):\n",
    "    \"\"\"\n",
    "    Realiza el cruce entre dos padres para producir dos hijos.\n",
    "\n",
    "    Parámetros:\n",
    "        padre1 (np.ndarray): El primer padre.\n",
    "        padre2 (np.ndarray): El segundo padre.\n",
    "        alpha (float): Parámetro que controla la mezcla de pesos.\n",
    "\n",
    "    Retorna:\n",
    "        tuple: Dos individuos hijos.\n",
    "    \"\"\"\n",
    "    hijo1, hijo2 = np.empty(padre1.shape), np.empty(padre1.shape)\n",
    "    mask = np.random.rand(len(padre1[0])) > 0.5\n",
    "    hijo1[0] = np.where(mask, padre1[0], padre2[0])\n",
    "    hijo2[0] = np.where(~mask, padre1[0], padre2[0])\n",
    "    alphas1 = np.random.uniform(-alpha, 1 + alpha, size=len(padre1[0]))\n",
    "    alphas2 = np.random.uniform(-alpha, 1 + alpha, size=len(padre1[0]))\n",
    "    hijo1[1] = alphas1 * padre1[1] + (1 - alphas1) * padre2[1]\n",
    "    hijo1[1] /= np.sum(np.abs(hijo1[1]))\n",
    "    hijo2[1] = (1 - alphas2) * padre1[1] + alphas2 * padre2[1]\n",
    "    hijo2[1] /= np.sum(np.abs(hijo2[1]))\n",
    "    return hijo1, hijo2"
   ]
  },
  {
   "cell_type": "markdown",
   "metadata": {},
   "source": [
    "---\n",
    "## Función de Predicción\n",
    "\n",
    "Definimos una función para hacer predicciones utilizando el mejor individuo (goat)."
   ]
  },
  {
   "cell_type": "code",
   "execution_count": 14,
   "metadata": {},
   "outputs": [],
   "source": [
    "def predict(goat, Xtest):\n",
    "    \"\"\"\n",
    "    Realiza predicciones en el conjunto de prueba utilizando el mejor individuo.\n",
    "\n",
    "    Parámetros:\n",
    "        goat (np.ndarray): El mejor individuo.\n",
    "        Xtest (np.ndarray): Matriz de características de prueba.\n",
    "\n",
    "    Retorna:\n",
    "        np.ndarray: Etiquetas predichas.\n",
    "    \"\"\"\n",
    "    goat[1] = goat[1] * goat[0] / np.sum(goat[1] * goat[0])\n",
    "    probs = np.dot(Xtest.astype(np.float64), goat[1, :].T.astype(np.float64))\n",
    "    y_pred = (probs >= 0.5).astype(int)\n",
    "    return y_pred"
   ]
  },
  {
   "cell_type": "markdown",
   "metadata": {},
   "source": [
    "---\n",
    "## Funciones de Parámetros Dinámicos\n",
    "\n",
    "Implementamos funciones para ajustar las tasas de mutación y los tamaños de torneo dinámicamente basados en el tiempo transcurrido."
   ]
  },
  {
   "cell_type": "code",
   "execution_count": 15,
   "metadata": {},
   "outputs": [],
   "source": [
    "def dynamic_mutation_rate(start_time, max_time, min_rate=0.01, max_rate=0.1):\n",
    "    \"\"\"\n",
    "    Ajusta dinámicamente la tasa de mutación basada en el tiempo transcurrido.\n",
    "\n",
    "    Parámetros:\n",
    "        start_time (float): El tiempo de inicio del algoritmo.\n",
    "        max_time (float): El tiempo máximo permitido.\n",
    "        min_rate (float): La tasa mínima de mutación.\n",
    "        max_rate (float): La tasa máxima de mutación.\n",
    "\n",
    "    Retorna:\n",
    "        float: Tasa de mutación ajustada.\n",
    "    \"\"\"\n",
    "    elapsed_time = time.time() - start_time\n",
    "    if elapsed_time >= max_time:\n",
    "        return min_rate \n",
    "    rate = max(min_rate, max_rate * (1 - elapsed_time / max_time))\n",
    "    return rate\n",
    "\n",
    "def dynamic_tournament_size(start_time, max_time, max_size=10):\n",
    "    \"\"\"\n",
    "    Ajusta dinámicamente el tamaño del torneo basado en el tiempo transcurrido.\n",
    "\n",
    "    Parámetros:\n",
    "        start_time (float): El tiempo de inicio del algoritmo.\n",
    "        max_time (float): El tiempo máximo permitido.\n",
    "        max_size (int): El tamaño máximo del torneo.\n",
    "\n",
    "    Retorna:\n",
    "        int: Tamaño de torneo ajustado.\n",
    "    \"\"\"\n",
    "    elapsed_time = time.time() - start_time\n",
    "    \n",
    "    if elapsed_time >= max_time:\n",
    "        return 2 \n",
    "    \n",
    "    size = 2 + int((elapsed_time / max_time) * (max_size - 2))  \n",
    "    size = min(size, max_size) \n",
    "    \n",
    "    return size"
   ]
  },
  {
   "cell_type": "markdown",
   "metadata": {},
   "source": [
    "---\n",
    "## Función Main\n",
    "\n",
    "Definimos la función main que ejecuta el algoritmo genético."
   ]
  },
  {
   "cell_type": "code",
   "execution_count": null,
   "metadata": {},
   "outputs": [],
   "source": [
    "def main():\n",
    "    \"\"\"\n",
    "    Función principal para ejecutar el algoritmo genético.\n",
    "    \"\"\"\n",
    "    global interrupted\n",
    "\n",
    "\n",
    "    gen_actual = 0\n",
    "    max_generations = 100  \n",
    "    num_individuos = 100 \n",
    "    goat = np.zeros((2, Xtrain.shape[1]))\n",
    "    poblacion = generate_population(num_individuos, Xtrain.shape[1])\n",
    "    fit_max = 0\n",
    "    rng = np.random.default_rng()\n",
    "    start_time = time.time()\n",
    "    total_time = 30  * 1 \n",
    "\n",
    "    while gen_actual < max_generations and not interrupted:\n",
    "        elapsed_time = time.time() - start_time \n",
    "        fitnessPob = fitness_poblacion(poblacion, Xtrain, Ytrain, umbral=0.5, metrica='f1')\n",
    "\n",
    "        if fit_max < fitness(poblacion[np.argmax(fitnessPob)], Xtrain, Ytrain):\n",
    "            goat = poblacion[np.argmax(fitnessPob)]\n",
    "            fit_max = fitness(poblacion[np.argmax(fitnessPob)], Xtrain, Ytrain)\n",
    "\n",
    "        if elapsed_time < total_time * 0.33: \n",
    "            num_elites = 1 \n",
    "        elif elapsed_time < total_time * 0.66: \n",
    "            num_elites = 2 \n",
    "        else: \n",
    "            num_elites = 3 \n",
    "\n",
    "        mutation_rate = dynamic_mutation_rate(start_time, total_time)\n",
    "        tournament_size = dynamic_tournament_size(start_time, total_time)\n",
    "\n",
    "        seleccionados = seleccion_torneo(fitnessPob, poblacion, tournament_size)\n",
    "\n",
    "        hijos = []\n",
    "        indices = np.arange(len(seleccionados))\n",
    "        rng.shuffle(indices)\n",
    "        for i in range(0, len(seleccionados) - 1, 2):\n",
    "            padre1, padre2 = indices[i], indices[i + 1]\n",
    "            hijo1, hijo2 = crossover(seleccionados[padre1], seleccionados[padre2])\n",
    "            hijos.append(hijo1)\n",
    "            hijos.append(hijo2)\n",
    "\n",
    "        if len(seleccionados) % 2 == 1:\n",
    "            hijos.append(seleccionados[indices[-1]])\n",
    "\n",
    "        for hijo in hijos:\n",
    "            mutacion_gaussiana_normalizada(hijo, prob_mutacion=mutation_rate)\n",
    "\n",
    "        fitness_pop_sorted_indices = np.argsort(fitnessPob)\n",
    "        best_indices = fitness_pop_sorted_indices[-num_elites:]\n",
    "        worst_indices = fitness_pop_sorted_indices[:num_elites]\n",
    "        for i in range(num_elites):\n",
    "            hijos[worst_indices[i]] = poblacion[best_indices[i]]\n",
    "\n",
    "        poblacion = np.array(hijos)\n",
    "        gen_actual += 1\n",
    "\n",
    "        if gen_actual % 10 == 0:\n",
    "            print(f\"Generación {gen_actual}, Mejor aptitud: {fit_max:.4f}\")\n",
    "\n",
    "    Ypred = predict(goat, Xtest)\n",
    "\n",
    "    print(\"Predicciones en el conjunto de prueba:\")\n",
    "    print(Ypred)\n",
    "\n",
    "    test_fitness = fitness(goat, Xtest, Ytest)\n",
    "    print(f\"Aptitud en el conjunto de prueba: {test_fitness:.4f}\")\n"
   ]
  },
  {
   "cell_type": "code",
   "execution_count": 17,
   "metadata": {},
   "outputs": [
    {
     "name": "stdout",
     "output_type": "stream",
     "text": [
      "Generación 10, Mejor aptitud: 0.7339\n",
      "Generación 20, Mejor aptitud: 0.8155\n",
      "Generación 30, Mejor aptitud: 0.9882\n",
      "Generación 40, Mejor aptitud: 0.9882\n",
      "Generación 50, Mejor aptitud: 0.9882\n",
      "Generación 60, Mejor aptitud: 0.9882\n",
      "Generación 70, Mejor aptitud: 0.9882\n",
      "Generación 80, Mejor aptitud: 0.9882\n",
      "Generación 90, Mejor aptitud: 0.9882\n",
      "Generación 100, Mejor aptitud: 0.9882\n",
      "Predicciones en el conjunto de prueba:\n",
      "[0 0 0 0 0 0 0 0 0 0 0 0 0 1 1 0 1 0 0 0 0 1 0 0 1 0 0 0 0 0 0 0 1 1 0 0 0\n",
      " 1 0 1 0 0 0 0 0 0 0 1 0 0 0 0 0 0 0 0 0]\n",
      "Aptitud en el conjunto de prueba: 1.0000\n"
     ]
    }
   ],
   "source": [
    "if __name__ == \"__main__\":\n",
    "    main()"
   ]
  }
 ],
 "metadata": {
  "kernelspec": {
   "display_name": "base",
   "language": "python",
   "name": "python3"
  },
  "language_info": {
   "codemirror_mode": {
    "name": "ipython",
    "version": 3
   },
   "file_extension": ".py",
   "mimetype": "text/x-python",
   "name": "python",
   "nbconvert_exporter": "python",
   "pygments_lexer": "ipython3",
   "version": "3.12.3"
  }
 },
 "nbformat": 4,
 "nbformat_minor": 2
}
